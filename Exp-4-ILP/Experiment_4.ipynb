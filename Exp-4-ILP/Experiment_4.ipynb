{
 "cells": [
  {
   "cell_type": "code",
   "execution_count": 1,
   "metadata": {},
   "outputs": [],
   "source": [
    "from sklearn.preprocessing import LabelEncoder\n",
    "import matplotlib.pyplot as plt\n",
    "import pandas as pd\n",
    "from sklearn.datasets import load_iris\n",
    "from sklearn.tree import DecisionTreeClassifier\n",
    "from sklearn.tree import export_text\n",
    "from sklearn.model_selection import train_test_split\n",
    "from sklearn.metrics import accuracy_score\n",
    "from sklearn.tree import DecisionTreeClassifier\n",
    "from sklearn.naive_bayes import GaussianNB\n",
    "from sklearn.model_selection import StratifiedKFold\n",
    "from sklearn.model_selection import cross_val_score\n",
    "from sklearn.naive_bayes import GaussianNB"
   ]
  },
  {
   "cell_type": "code",
   "execution_count": 2,
   "metadata": {},
   "outputs": [],
   "source": [
    "muta = pd.read_csv(\"Mutagen_Num.CSV\")"
   ]
  },
  {
   "cell_type": "code",
   "execution_count": 3,
   "metadata": {},
   "outputs": [
    {
     "data": {
      "text/html": [
       "<div>\n",
       "<style scoped>\n",
       "    .dataframe tbody tr th:only-of-type {\n",
       "        vertical-align: middle;\n",
       "    }\n",
       "\n",
       "    .dataframe tbody tr th {\n",
       "        vertical-align: top;\n",
       "    }\n",
       "\n",
       "    .dataframe thead th {\n",
       "        text-align: right;\n",
       "    }\n",
       "</style>\n",
       "<table border=\"1\" class=\"dataframe\">\n",
       "  <thead>\n",
       "    <tr style=\"text-align: right;\">\n",
       "      <th></th>\n",
       "      <th>ind1</th>\n",
       "      <th>inda</th>\n",
       "      <th>logp</th>\n",
       "      <th>lumo</th>\n",
       "      <th>status</th>\n",
       "    </tr>\n",
       "  </thead>\n",
       "  <tbody>\n",
       "    <tr>\n",
       "      <th>0</th>\n",
       "      <td>1.0</td>\n",
       "      <td>0.0</td>\n",
       "      <td>3.81</td>\n",
       "      <td>-1.208</td>\n",
       "      <td>active</td>\n",
       "    </tr>\n",
       "    <tr>\n",
       "      <th>1</th>\n",
       "      <td>1.0</td>\n",
       "      <td>0.0</td>\n",
       "      <td>3.4</td>\n",
       "      <td>-1.764</td>\n",
       "      <td>active</td>\n",
       "    </tr>\n",
       "    <tr>\n",
       "      <th>2</th>\n",
       "      <td>1.0</td>\n",
       "      <td>0.0</td>\n",
       "      <td>6.07</td>\n",
       "      <td>-2.284</td>\n",
       "      <td>active</td>\n",
       "    </tr>\n",
       "    <tr>\n",
       "      <th>3</th>\n",
       "      <td>1.0</td>\n",
       "      <td>0.0</td>\n",
       "      <td>3.43</td>\n",
       "      <td>-1.398</td>\n",
       "      <td>active</td>\n",
       "    </tr>\n",
       "    <tr>\n",
       "      <th>4</th>\n",
       "      <td>0.0</td>\n",
       "      <td>0.0</td>\n",
       "      <td>2.17</td>\n",
       "      <td>-2.072</td>\n",
       "      <td>active</td>\n",
       "    </tr>\n",
       "    <tr>\n",
       "      <th>...</th>\n",
       "      <td>...</td>\n",
       "      <td>...</td>\n",
       "      <td>...</td>\n",
       "      <td>...</td>\n",
       "      <td>...</td>\n",
       "    </tr>\n",
       "    <tr>\n",
       "      <th>183</th>\n",
       "      <td>0.0</td>\n",
       "      <td>0.0</td>\n",
       "      <td>3.77</td>\n",
       "      <td>-1.228</td>\n",
       "      <td>inactive</td>\n",
       "    </tr>\n",
       "    <tr>\n",
       "      <th>184</th>\n",
       "      <td>0.0</td>\n",
       "      <td>0.0</td>\n",
       "      <td>1.73</td>\n",
       "      <td>-0.93</td>\n",
       "      <td>inactive</td>\n",
       "    </tr>\n",
       "    <tr>\n",
       "      <th>185</th>\n",
       "      <td>0.0</td>\n",
       "      <td>0.0</td>\n",
       "      <td>2.74</td>\n",
       "      <td>-1.562</td>\n",
       "      <td>inactive</td>\n",
       "    </tr>\n",
       "    <tr>\n",
       "      <th>186</th>\n",
       "      <td>0.0</td>\n",
       "      <td>0.0</td>\n",
       "      <td>1.64</td>\n",
       "      <td>-0.982</td>\n",
       "      <td>inactive</td>\n",
       "    </tr>\n",
       "    <tr>\n",
       "      <th>187</th>\n",
       "      <td>0.0</td>\n",
       "      <td>0.0</td>\n",
       "      <td>2.72</td>\n",
       "      <td>-1.019</td>\n",
       "      <td>inactive</td>\n",
       "    </tr>\n",
       "  </tbody>\n",
       "</table>\n",
       "<p>188 rows × 5 columns</p>\n",
       "</div>"
      ],
      "text/plain": [
       "     ind1  inda   logp     lumo     status\n",
       "0     1.0   0.0   3.81   -1.208     active\n",
       "1     1.0   0.0    3.4   -1.764     active\n",
       "2     1.0   0.0   6.07   -2.284     active\n",
       "3     1.0   0.0   3.43   -1.398     active\n",
       "4     0.0   0.0   2.17   -2.072     active\n",
       "..    ...   ...    ...      ...        ...\n",
       "183   0.0   0.0   3.77   -1.228   inactive\n",
       "184   0.0   0.0   1.73    -0.93   inactive\n",
       "185   0.0   0.0   2.74   -1.562   inactive\n",
       "186   0.0   0.0   1.64   -0.982   inactive\n",
       "187   0.0   0.0   2.72   -1.019   inactive\n",
       "\n",
       "[188 rows x 5 columns]"
      ]
     },
     "execution_count": 3,
     "metadata": {},
     "output_type": "execute_result"
    }
   ],
   "source": [
    "muta.drop(columns=['Name'])"
   ]
  },
  {
   "cell_type": "code",
   "execution_count": 4,
   "metadata": {},
   "outputs": [],
   "source": [
    "\n",
    "le = LabelEncoder()\n",
    "muta['status']=le.fit_transform(muta['status'])"
   ]
  },
  {
   "cell_type": "code",
   "execution_count": 5,
   "metadata": {},
   "outputs": [
    {
     "data": {
      "text/plain": [
       "Text(0.5, 1.0, 'target Class')"
      ]
     },
     "execution_count": 5,
     "metadata": {},
     "output_type": "execute_result"
    },
    {
     "data": {
      "image/png": "[encoded data removed]",
      "text/plain": [
       "<Figure size 432x288 with 1 Axes>"
      ]
     },
     "metadata": {
      "needs_background": "light"
     },
     "output_type": "display_data"
    }
   ],
   "source": [
    "import seaborn as sns\n",
    "sns.countplot(x='status',data=muta)\n",
    "plt.xlabel(\"classification\")\n",
    "plt.ylabel(\"Count\")\n",
    "plt.title(\"target Class\")"
   ]
  },
  {
   "cell_type": "code",
   "execution_count": 6,
   "metadata": {},
   "outputs": [],
   "source": [
    "x = muta\n",
    "y = x['status']\n",
    "x=x.drop(columns=['status','Name'])"
   ]
  },
  {
   "cell_type": "code",
   "execution_count": 7,
   "metadata": {},
   "outputs": [
    {
     "name": "stdout",
     "output_type": "stream",
     "text": [
      "Accuracy Score on train data:  1.0\n",
      "Accuracy Score on the test data:  0.8085106382978723\n"
     ]
    }
   ],
   "source": [
    "ffff =  list(x.columns)\n",
    "X_train, X_test, y_train, Y_test = train_test_split(x, y, random_state = 47, test_size = 0.25)\n",
    "DTree = DecisionTreeClassifier(criterion = 'entropy')\n",
    "DTree.fit(X_train, y_train)\n",
    "y_pred =  DTree.predict(X_test)\n",
    "print('Accuracy Score on train data: ', accuracy_score(y_true=y_train, y_pred=DTree.predict(X_train)))\n",
    "print('Accuracy Score on the test data: ', accuracy_score(y_true=Y_test, y_pred=DTree.predict(X_test)))"
   ]
  },
  {
   "cell_type": "code",
   "execution_count": 8,
   "metadata": {},
   "outputs": [
    {
     "name": "stdout",
     "output_type": "stream",
     "text": [
      "|--- ind1 <= 0.50\n",
      "|   |--- lumo <= -2.13\n",
      "|   |   |--- class: 0\n",
      "|   |--- lumo >  -2.13\n",
      "|   |   |--- logp <= 2.04\n",
      "|   |   |   |--- lumo <= -1.86\n",
      "|   |   |   |   |--- lumo <= -2.01\n",
      "|   |   |   |   |   |--- class: 1\n",
      "|   |   |   |   |--- lumo >  -2.01\n",
      "|   |   |   |   |   |--- class: 0\n",
      "|   |   |   |--- lumo >  -1.86\n",
      "|   |   |   |   |--- lumo <= -1.25\n",
      "|   |   |   |   |   |--- class: 1\n",
      "|   |   |   |   |--- lumo >  -1.25\n",
      "|   |   |   |   |   |--- lumo <= -1.20\n",
      "|   |   |   |   |   |   |--- class: 0\n",
      "|   |   |   |   |   |--- lumo >  -1.20\n",
      "|   |   |   |   |   |   |--- class: 1\n",
      "|   |   |--- logp >  2.04\n",
      "|   |   |   |--- lumo <= -1.07\n",
      "|   |   |   |   |--- logp <= 2.63\n",
      "|   |   |   |   |   |--- class: 0\n",
      "|   |   |   |   |--- logp >  2.63\n",
      "|   |   |   |   |   |--- lumo <= -1.88\n",
      "|   |   |   |   |   |   |--- class: 1\n",
      "|   |   |   |   |   |--- lumo >  -1.88\n",
      "|   |   |   |   |   |   |--- lumo <= -1.61\n",
      "|   |   |   |   |   |   |   |--- class: 0\n",
      "|   |   |   |   |   |   |--- lumo >  -1.61\n",
      "|   |   |   |   |   |   |   |--- lumo <= -1.20\n",
      "|   |   |   |   |   |   |   |   |--- logp <= 3.97\n",
      "|   |   |   |   |   |   |   |   |   |--- class: 1\n",
      "|   |   |   |   |   |   |   |   |--- logp >  3.97\n",
      "|   |   |   |   |   |   |   |   |   |--- class: 0\n",
      "|   |   |   |   |   |   |   |--- lumo >  -1.20\n",
      "|   |   |   |   |   |   |   |   |--- lumo <= -1.15\n",
      "|   |   |   |   |   |   |   |   |   |--- class: 0\n",
      "|   |   |   |   |   |   |   |   |--- lumo >  -1.15\n",
      "|   |   |   |   |   |   |   |   |   |--- lumo <= -1.12\n",
      "|   |   |   |   |   |   |   |   |   |   |--- class: 1\n",
      "|   |   |   |   |   |   |   |   |   |--- lumo >  -1.12\n",
      "|   |   |   |   |   |   |   |   |   |   |--- class: 0\n",
      "|   |   |   |--- lumo >  -1.07\n",
      "|   |   |   |   |--- class: 1\n",
      "|--- ind1 >  0.50\n",
      "|   |--- logp <= 6.85\n",
      "|   |   |--- class: 0\n",
      "|   |--- logp >  6.85\n",
      "|   |   |--- class: 1\n",
      "\n"
     ]
    }
   ],
   "source": [
    "r = export_text(DTree,feature_names=ffff)\n",
    "print(r)"
   ]
  },
  {
   "cell_type": "code",
   "execution_count": 9,
   "metadata": {},
   "outputs": [
    {
     "name": "stdout",
     "output_type": "stream",
     "text": [
      "Naive Bayes score:  0.8439716312056738\n"
     ]
    },
    {
     "data": {
      "text/plain": [
       "0.851063829787234"
      ]
     },
     "execution_count": 9,
     "metadata": {},
     "output_type": "execute_result"
    }
   ],
   "source": [
    "nb = GaussianNB()\n",
    "nb.fit(X_train, y_train)\n",
    "\n",
    "print(\"Naive Bayes score: \",nb.score(X_train, y_train))\n",
    "\n",
    "y_pred = nb.predict(X_test)\n",
    "\n",
    "#Accuracy score for test data\n",
    "\n",
    "from sklearn.metrics import accuracy_score\n",
    "\n",
    "accuracy_score(Y_test, y_pred)"
   ]
  },
  {
   "cell_type": "code",
   "execution_count": 10,
   "metadata": {},
   "outputs": [],
   "source": [
    "# compare algorithms\n",
    "from  PyILP.PyILP import *\n",
    "import warnings\n",
    "warnings.filterwarnings('ignore')\n",
    "from pandas import read_csv\n",
    "from matplotlib import pyplot\n",
    "from sklearn.model_selection import train_test_split\n",
    "from sklearn.model_selection import cross_val_score\n",
    "from sklearn.model_selection import StratifiedKFold\n",
    "#from sklearn.naive_bayes import GaussianNB\n",
    "#from sklearn.tree import DecisionTreeClassifier\n",
    "#from sklearn.linear_model import Perceptron\n",
    "#from sklearn.neural_network import MLPClassifier\n",
    "#from sklearn.preprocessing import LabelEncoder\n",
    "#from sklearn import  svm\n",
    "#from sklearn.cluster import KMeans\n",
    "#from sklearn import datasets\n",
    "import pandas as pd\n",
    "import numpy as np\n",
    "import os\n",
    "import collections\n",
    "import pickle\n",
    "from pyswip import Prolog, Variable, Functor"
   ]
  },
  {
   "cell_type": "code",
   "execution_count": 11,
   "metadata": {},
   "outputs": [
    {
     "name": "stdout",
     "output_type": "stream",
     "text": [
      "\n",
      "\n",
      "['active(A) :-   atm(A,B,h,3,C), C=0.144.', 'active(A) :-   ind1(A,1.0).', 'active(A) :-   atm(A,B,o,40,C), C= -0.383.', 'active(A) :-   atm(A,B,c,29,C), C=0.01.', 'active(A) :-   atm(A,B,c,16,C), C= -0.191.', 'active(d145).', 'active(A) :-   atm(A,B,c,27,C), C=0.012.', 'active(d172).', 'active(d37).', 'active(d146).']\n",
      "+----------+ Testing +----------+\n",
      "+---------------------+------------------+------------------+\n",
      "|       n = 38        | Positive(Actual) | Negative(Actual) |\n",
      "+=====================+==================+==================+\n",
      "| Positive(Predicted) | 21               | 2                |\n",
      "+---------------------+------------------+------------------+\n",
      "| Negative(Predicted) | 4                | 11               |\n",
      "+---------------------+------------------+------------------+\n",
      "+-------------+-------+\n",
      "|   Metric    |   #   |\n",
      "+=============+=======+\n",
      "| Accuracy    | 0.842 |\n",
      "+-------------+-------+\n",
      "| Precision   | 0.913 |\n",
      "+-------------+-------+\n",
      "| Sensitivity | 0.840 |\n",
      "+-------------+-------+\n",
      "| Specificity | 0.846 |\n",
      "+-------------+-------+\n",
      "| F1 Score    | 0.875 |\n",
      "+-------------+-------+\n",
      "['active(A) :-   ind1(A,1.0).', 'active(d26).', 'active(A) :-   bond(A,B,C,2), bond(A,C,D,1), ring_size_5(A,E).', 'active(A) :-   atm(A,B,c,29,C), C=0.014.', 'active(A) :-   atm(A,B,o,40,C), C= -0.384.', 'active(d75).', 'active(d140).', 'active(A) :-   atm(A,B,c,29,C), C=0.017.', 'active(d37).', 'active(d146).', 'active(d50).']\n",
      "+----------+ Testing +----------+\n",
      "+---------------------+------------------+------------------+\n",
      "|       n = 38        | Positive(Actual) | Negative(Actual) |\n",
      "+=====================+==================+==================+\n",
      "| Positive(Predicted) | 25               | 4                |\n",
      "+---------------------+------------------+------------------+\n",
      "| Negative(Predicted) | 0                | 9                |\n",
      "+---------------------+------------------+------------------+\n",
      "+-------------+-------+\n",
      "|   Metric    |   #   |\n",
      "+=============+=======+\n",
      "| Accuracy    | 0.895 |\n",
      "+-------------+-------+\n",
      "| Precision   | 0.862 |\n",
      "+-------------+-------+\n",
      "| Sensitivity | 1     |\n",
      "+-------------+-------+\n",
      "| Specificity | 0.692 |\n",
      "+-------------+-------+\n",
      "| F1 Score    | 0.926 |\n",
      "+-------------+-------+\n",
      "['active(A) :-   ind1(A,1.0).', 'active(d26).', 'active(A) :-   bond(A,B,C,2), bond(A,C,D,1), ring_size_5(A,E).', 'active(A) :-   atm(A,B,c,29,C), C=0.014.', 'active(A) :-   atm(A,B,c,26,C), C=0.315.', 'active(A) :-   atm(A,B,o,40,C), C= -0.383.', 'active(d21).', 'active(d145).', 'active(d37).', 'active(d146).', 'active(d50).']\n",
      "+----------+ Testing +----------+\n",
      "+---------------------+------------------+------------------+\n",
      "|       n = 38        | Positive(Actual) | Negative(Actual) |\n",
      "+=====================+==================+==================+\n",
      "| Positive(Predicted) | 25               | 0                |\n",
      "+---------------------+------------------+------------------+\n",
      "| Negative(Predicted) | 0                | 13               |\n",
      "+---------------------+------------------+------------------+\n",
      "+-------------+---+\n",
      "|   Metric    | # |\n",
      "+=============+===+\n",
      "| Accuracy    | 1 |\n",
      "+-------------+---+\n",
      "| Precision   | 1 |\n",
      "+-------------+---+\n",
      "| Sensitivity | 1 |\n",
      "+-------------+---+\n",
      "| Specificity | 1 |\n",
      "+-------------+---+\n",
      "| F1 Score    | 1 |\n",
      "+-------------+---+\n",
      "['active(A) :-   ind1(A,1.0).', 'active(d26).', 'active(A) :-   bond(A,B,C,2), bond(A,C,D,1), ring_size_5(A,E).', 'active(A) :-   atm(A,B,c,29,C), C=0.014.', 'active(A) :-   atm(A,B,o,40,C), C= -0.384.', 'active(A) :-   atm(A,B,c,29,C), C=0.01.', 'active(d145).', 'active(d140).', 'active(A) :-   atm(A,B,c,29,C), C=0.017.', 'active(d50).']\n",
      "+----------+ Testing +----------+\n",
      "+---------------------+------------------+------------------+\n",
      "|       n = 37        | Positive(Actual) | Negative(Actual) |\n",
      "+=====================+==================+==================+\n",
      "| Positive(Predicted) | 25               | 1                |\n",
      "+---------------------+------------------+------------------+\n",
      "| Negative(Predicted) | 0                | 11               |\n",
      "+---------------------+------------------+------------------+\n",
      "+-------------+-------+\n",
      "|   Metric    |   #   |\n",
      "+=============+=======+\n",
      "| Accuracy    | 0.973 |\n",
      "+-------------+-------+\n",
      "| Precision   | 0.962 |\n",
      "+-------------+-------+\n",
      "| Sensitivity | 1     |\n",
      "+-------------+-------+\n",
      "| Specificity | 0.917 |\n",
      "+-------------+-------+\n",
      "| F1 Score    | 0.980 |\n",
      "+-------------+-------+\n",
      "['active(A) :-   ind1(A,1.0).', 'active(d26).', 'active(A) :-   bond(A,B,C,2), bond(A,C,D,1), ring_size_5(A,E).', 'active(A) :-   atm(A,B,c,29,C), C=0.014.', 'active(A) :-   atm(A,B,o,40,C), C= -0.384.', 'active(A) :-   atm(A,B,c,29,C), C=0.01.', 'active(d145).', 'active(d140).', 'active(d171).', 'active(d37).', 'active(d146).']\n",
      "+----------+ Testing +----------+\n",
      "+---------------------+------------------+------------------+\n",
      "|       n = 37        | Positive(Actual) | Negative(Actual) |\n",
      "+=====================+==================+==================+\n",
      "| Positive(Predicted) | 25               | 3                |\n",
      "+---------------------+------------------+------------------+\n",
      "| Negative(Predicted) | 0                | 9                |\n",
      "+---------------------+------------------+------------------+\n",
      "+-------------+-------+\n",
      "|   Metric    |   #   |\n",
      "+=============+=======+\n",
      "| Accuracy    | 0.919 |\n",
      "+-------------+-------+\n",
      "| Precision   | 0.893 |\n",
      "+-------------+-------+\n",
      "| Sensitivity | 1     |\n",
      "+-------------+-------+\n",
      "| Specificity | 0.750 |\n",
      "+-------------+-------+\n",
      "| F1 Score    | 0.943 |\n",
      "+-------------+-------+\n",
      "\n",
      "\n",
      "\n",
      "\n",
      "['active(A) :-', '   ind1(A,1.0).', 'active(d26).', 'active(A) :-', '   bond(A,B,C,2), bond(A,C,D,1), ring_size_5(A,E).', 'active(A) :-', '   atm(A,B,c,29,C), C=0.014.', 'active(A) :-', '   atm(A,B,o,40,C), C= -0.384.', 'active(A) :-', '   atm(A,B,c,29,C), C=0.01.', 'active(d145).', 'active(d140).', 'active(d171).', 'active(d37).', 'active(d146).']\n",
      "+----------+ Testing +----------+\n",
      "+---------------------+------------------+------------------+\n",
      "|       n = 63        | Positive(Actual) | Negative(Actual) |\n",
      "+=====================+==================+==================+\n",
      "| Positive(Predicted) | 42               | 3                |\n",
      "+---------------------+------------------+------------------+\n",
      "| Negative(Predicted) | 0                | 18               |\n",
      "+---------------------+------------------+------------------+\n",
      "+-------------+-------+\n",
      "|   Metric    |   #   |\n",
      "+=============+=======+\n",
      "| Accuracy    | 0.952 |\n",
      "+-------------+-------+\n",
      "| Precision   | 0.933 |\n",
      "+-------------+-------+\n",
      "| Sensitivity | 1     |\n",
      "+-------------+-------+\n",
      "| Specificity | 0.857 |\n",
      "+-------------+-------+\n",
      "| F1 Score    | 0.966 |\n",
      "+-------------+-------+\n",
      "\n",
      "\n",
      "\n",
      "\n",
      "\n",
      "\n",
      "\n",
      "\n",
      "\n",
      "\n"
     ]
    },
    {
     "data": {
      "image/png": "[encoded data removed]",
      "text/plain": [
       "<Figure size 432x288 with 1 Axes>"
      ]
     },
     "metadata": {
      "needs_background": "light"
     },
     "output_type": "display_data"
    },
    {
     "data": {
      "text/plain": [
       "Text(0, 0.5, 'Learning time (Sec)')"
      ]
     },
     "execution_count": 11,
     "metadata": {},
     "output_type": "execute_result"
    },
    {
     "data": {
      "image/png": "[encoded data removed]",
      "text/plain": [
       "<Figure size 432x288 with 1 Axes>"
      ]
     },
     "metadata": {
      "needs_background": "light"
     },
     "output_type": "display_data"
    }
   ],
   "source": [
    "models = []\n",
    "BK_3 = 'b_3.pl'\n",
    "BK_4 =\"b_33.pl\"\n",
    "\n",
    "\n",
    "\n",
    "\n",
    "models.append(('Aleph',\"Alpeh\", BK_3))\n",
    "models.append(('Metagol',\"Matagol\", BK_3))\n",
    "models.append(('Naive Bayes',\"Naive Bayes\" ,GaussianNB()))\n",
    "models.append(('Decision Tree', \"DescionTree\" ,DecisionTreeClassifier()))\n",
    "\n",
    "#print('****************  Mutagenicity Dataset ****************')\n",
    "#pos, neg= aleph_pos_neg(pos_ex, neg_ex)\n",
    "results1 = []\n",
    "names1 = []\n",
    "avg_time = []\n",
    "for name, label, model in models:\n",
    "    print(\"\\n\")\n",
    "    #print(\"****************** Rule sets generated by Aleph for the Mutagenicity Dataset using BK:  \", label)\n",
    "    if name==\"Aleph\":\n",
    "        #continue \n",
    "        # can be changed to 10 fold which will take longer to finish\n",
    "        model_1=aleph_cross_validation(model,  CV=5,  positive_example=\"pos_example_m.f\", \n",
    "                                       negative_example=\"neg_example_m.n\")\n",
    "        cv_results=model_1.accuracy\n",
    "    elif name==\"Metagol\":\n",
    "        #continue\n",
    "        model_1=metagol_learn(model, positive_example=\"pos_example_m.f\", \n",
    "                                       negative_example=\"neg_example_m.n\")\n",
    "        cv_results=model_1.accuracy       \n",
    "    else:\n",
    "        kfold = StratifiedKFold(n_splits=10, random_state=None)\n",
    "        cv_results = cross_val_score(model, X_train, y_train, cv=kfold, scoring='accuracy')\n",
    "    results1.append(cv_results)\n",
    "    avg_time.append(model_1.time_learn)\n",
    "    names1.append(label)\n",
    "    print(\"\\n\")\n",
    "pyplot.boxplot(results1, labels=names1)\n",
    "pyplot.title('Cross-validation of Aleph rules on Mutagenicity')\n",
    "pyplot.show()\n",
    "\n",
    "pyplot.plot(names1,avg_time)\n",
    "pyplot.xlabel(\"Type of BK\")\n",
    "pyplot.ylabel(\"Learning time (Sec)\")"
   ]
  },
  {
   "cell_type": "code",
   "execution_count": null,
   "metadata": {},
   "outputs": [],
   "source": []
  },
  {
   "cell_type": "code",
   "execution_count": null,
   "metadata": {},
   "outputs": [],
   "source": []
  }
 ],
 "metadata": {
  "kernelspec": {
   "display_name": "Python 3 (ipykernel)",
   "language": "python",
   "name": "python3"
  },
  "language_info": {
   "codemirror_mode": {
    "name": "ipython",
    "version": 3
   },
   "file_extension": ".py",
   "mimetype": "text/x-python",
   "name": "python",
   "nbconvert_exporter": "python",
   "pygments_lexer": "ipython3",
   "version": "3.10.3"
  }
 },
 "nbformat": 4,
 "nbformat_minor": 4
}
